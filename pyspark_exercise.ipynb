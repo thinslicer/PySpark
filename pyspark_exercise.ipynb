{
 "cells": [
  {
   "cell_type": "markdown",
   "metadata": {},
   "source": [
    "# MapReduce using SPARK"
   ]
  },
  {
   "cell_type": "code",
   "execution_count": 1,
   "metadata": {},
   "outputs": [
    {
     "name": "stdout",
     "output_type": "stream",
     "text": [
      "Populating the interactive namespace from numpy and matplotlib\n"
     ]
    }
   ],
   "source": [
    "%pylab inline\n",
    "import pandas as pd\n",
    "import seaborn as sns\n",
    "pd.set_option('display.width', 500)\n",
    "pd.set_option('display.max_columns', 100)"
   ]
  },
  {
   "cell_type": "markdown",
   "metadata": {},
   "source": [
    "# Table of Contents\n",
    "\n",
    "* [SPARK](#SPARK)\n",
    "    * Installing Spark locally\n",
    "* [Spark Context](#Spark-Context)\n",
    "    * [Create A RDD](#Create-A-RDD)\n",
    "    * [Call `collect` on an RDD: Lazy Spark](#Call-collect-on-an-RDD:-Lazy-Spark)\n",
    "    * [Operations on RDDs](#Operations-on-RDDs)\n",
    "    * [Word Examples](#Word-Examples)\n",
    "    * [Key Value Pairs](#Key-Value-Pairs)\n",
    "    * [word count 1](#word-count-1)\n",
    "    * [word count 2:  `reduceByKey()`](#word-count-2:--reduceByKey%28%29)\n",
    "    * [Nested Syntax](#Nested-Syntax)\n",
    "    * [Using Cache](#Using-Cache)\n",
    "    * [Fun with words](#Fun-with-words)\n",
    "    * [DataFrames](#DataFrames)\n",
    "    * [Machine Learning](#Machine-Learning)\n"
   ]
  },
  {
   "cell_type": "markdown",
   "metadata": {
    "slideshow": {
     "slide_type": "slide"
    }
   },
   "source": [
    "With shameless stealing of some code and text from:\n",
    "\n",
    "- https://github.com/tdhopper/rta-pyspark-presentation/blob/master/slides.ipynb\n",
    "- Databricks and Berkeley Spark MOOC: https://www.edx.org/course/introduction-big-data-apache-spark-uc-berkeleyx-cs100-1x\n",
    "\n",
    "which you should go check out."
   ]
  },
  {
   "cell_type": "markdown",
   "metadata": {},
   "source": [
    "## Installing Spark locally\n",
    "\n",
    "\n",
    "**Step 1: Install Apache Spark**\n",
    "\n",
    "For example, for Mac users using Homebrew:\n",
    "\n",
    "```\n",
    "$ brew install apache-spark\n",
    "```"
   ]
  },
  {
   "cell_type": "markdown",
   "metadata": {},
   "source": [
    "**Step 2: Install the Java SDK version 1.8 or above for your platform (not just the JRE runtime)**\n",
    "\n",
    "Make sure you can access commands such as `java` on your command line."
   ]
  },
  {
   "cell_type": "markdown",
   "metadata": {},
   "source": [
    "**Step 3: Install the latest findspark package using pip**\n",
    "\n",
    "```\n",
    "➜  ~  pip install findspark\n",
    "Collecting findspark\n",
    "  Downloading findspark-0.0.5-py2.py3-none-any.whl\n",
    "Installing collected packages: findspark\n",
    "Successfully installed findspark-0.0.5\n",
    "```"
   ]
  },
  {
   "cell_type": "markdown",
   "metadata": {
    "slideshow": {
     "slide_type": "slide"
    }
   },
   "source": [
    "# Spark Context\n",
    "\n",
    "You can also use it directly from the notebook interface on the mac if you installed `apache-spark` using `brew` and also installed `findspark` above."
   ]
  },
  {
   "cell_type": "code",
   "execution_count": 2,
   "metadata": {},
   "outputs": [],
   "source": [
    "import findspark\n",
    "findspark.init()\n",
    "import pyspark\n",
    "sc = pyspark.SparkContext()"
   ]
  },
  {
   "cell_type": "markdown",
   "metadata": {},
   "source": [
    "It also outputs a bunch of stuff on my terminal. This is because the entire java context is started up.\n",
    "\n",
    "```Using Spark's default log4j profile: org/apache/spark/log4j-defaults.properties\n",
    "15/10/21 14:46:15 INFO SparkContext: Running Spark version 1.4.0\n",
    "2015-10-21 14:46:15.774 java[30685:c003] Unable to load realm info from SCDynamicStore\n",
    "15/10/21 14:46:15 WARN NativeCodeLoader: Unable to load native-hadoop library for your platform... using builtin-java classes where applicable\n",
    "15/10/21 14:46:15 INFO SecurityManager: Changing view acls to: rahul\n",
    "15/10/21 14:46:15 INFO SecurityManager: Changing modify acls to: rahul\n",
    "15/10/21 14:46:15 INFO SecurityManager: SecurityManager: authentication disabled; ui acls disabled; users with view permissions: Set(rahul); users with modify permissions: Set(rahul)\n",
    "15/10/21 14:46:16 INFO Slf4jLogger: Slf4jLogger started\n",
    "15/10/21 14:46:16 INFO Remoting: Starting remoting\n",
    "15/10/21 14:46:16 INFO Remoting: Remoting started; listening on addresses :[akka.tcp://sparkDriver@10.251.101.163:64359]\n",
    "15/10/21 14:46:16 INFO Utils: Successfully started service 'sparkDriver' on port 64359.\n",
    "15/10/21 14:46:16 INFO SparkEnv: Registering MapOutputTracker\n",
    "15/10/21 14:46:16 INFO SparkEnv: Registering BlockManagerMaster\n",
    "15/10/21 14:46:16 INFO DiskBlockManager: Created local directory at /private/var/folders/_f/y76rs29s3c57ykwyz9c8z12c0000gn/T/spark-00a4e09e-e5db-485f-81dc-2e5016e9a27e/blockmgr-8966e07c-223b-4c38-9273-11543aa9d3c1\n",
    "15/10/21 14:46:16 INFO MemoryStore: MemoryStore started with capacity 273.0 MB\n",
    "15/10/21 14:46:16 INFO HttpFileServer: HTTP File server directory is /private/var/folders/_f/y76rs29s3c57ykwyz9c8z12c0000gn/T/spark-00a4e09e-e5db-485f-81dc-2e5016e9a27e/httpd-6af0a9e0-1cfe-42c4-a1bd-e01715b98436\n",
    "15/10/21 14:46:16 INFO HttpServer: Starting HTTP Server\n",
    "15/10/21 14:46:17 INFO Utils: Successfully started service 'HTTP file server' on port 64360.\n",
    "15/10/21 14:46:17 INFO SparkEnv: Registering OutputCommitCoordinator\n",
    "15/10/21 14:46:18 INFO Utils: Successfully started service 'SparkUI' on port 4040.\n",
    "15/10/21 14:46:18 INFO SparkUI: Started SparkUI at http://10.251.101.163:4040\n",
    "15/10/21 14:46:18 INFO Executor: Starting executor ID driver on host localhost\n",
    "15/10/21 14:46:18 INFO Utils: Successfully started service 'org.apache.spark.network.netty.NettyBlockTransferService' on port 64361.\n",
    "15/10/21 14:46:18 INFO NettyBlockTransferService: Server created on 64361\n",
    "15/10/21 14:46:18 INFO BlockManagerMaster: Trying to register BlockManager\n",
    "15/10/21 14:46:18 INFO BlockManagerMasterEndpoint: Registering block manager localhost:64361 with 273.0 MB RAM, BlockManagerId(driver, localhost, 64361)\n",
    "15/10/21 14:46:18 INFO BlockManagerMaster: Registered BlockManager\n",
    "```"
   ]
  },
  {
   "cell_type": "code",
   "execution_count": 3,
   "metadata": {},
   "outputs": [
    {
     "data": {
      "text/html": [
       "\n",
       "        <div>\n",
       "            <p><b>SparkContext</b></p>\n",
       "\n",
       "            <p><a href=\"http://gias-mbp:4040\">Spark UI</a></p>\n",
       "\n",
       "            <dl>\n",
       "              <dt>Version</dt>\n",
       "                <dd><code>v2.3.0</code></dd>\n",
       "              <dt>Master</dt>\n",
       "                <dd><code>local[*]</code></dd>\n",
       "              <dt>AppName</dt>\n",
       "                <dd><code>pyspark-shell</code></dd>\n",
       "            </dl>\n",
       "        </div>\n",
       "        "
      ],
      "text/plain": [
       "<SparkContext master=local[*] appName=pyspark-shell>"
      ]
     },
     "execution_count": 3,
     "metadata": {},
     "output_type": "execute_result"
    }
   ],
   "source": [
    "sc"
   ]
  },
  {
   "cell_type": "code",
   "execution_count": 4,
   "metadata": {},
   "outputs": [
    {
     "data": {
      "text/plain": [
       "385"
      ]
     },
     "execution_count": 4,
     "metadata": {},
     "output_type": "execute_result"
    }
   ],
   "source": [
    "sc.parallelize([1, 2, 3, 4, 5, 6, 7, 8, 9, 10]).map(lambda x: x**2).sum()"
   ]
  },
  {
   "cell_type": "markdown",
   "metadata": {
    "slideshow": {
     "slide_type": "slide"
    }
   },
   "source": [
    "### Create A RDD\n"
   ]
  },
  {
   "cell_type": "code",
   "execution_count": 6,
   "metadata": {},
   "outputs": [
    {
     "name": "stdout",
     "output_type": "stream",
     "text": [
      "<class 'pyspark.rdd.RDD'>\n"
     ]
    }
   ],
   "source": [
    "wordsList = ['cat', 'elephant', 'rat', 'rat', 'cat']\n",
    "wordsRDD = sc.parallelize(wordsList, 4)\n",
    "# Print out the type of wordsRDD\n",
    "print(type(wordsRDD))"
   ]
  },
  {
   "cell_type": "code",
   "execution_count": 9,
   "metadata": {},
   "outputs": [
    {
     "data": {
      "text/plain": [
       "ParallelCollectionRDD[2] at parallelize at PythonRDD.scala:175"
      ]
     },
     "execution_count": 9,
     "metadata": {},
     "output_type": "execute_result"
    }
   ],
   "source": [
    "wordsRDD"
   ]
  },
  {
   "cell_type": "markdown",
   "metadata": {
    "slideshow": {
     "slide_type": "slide"
    }
   },
   "source": [
    "### Call `collect` on an RDD: Lazy Spark"
   ]
  },
  {
   "cell_type": "markdown",
   "metadata": {},
   "source": [
    "Spark is lazy. Until you `collect`, nothing is actually run.\n",
    "\n",
    ">Instead, they just remember the transformations applied to some base dataset (e.g. a file). The transformations are only computed when an action requires a result to be returned to the driver program."
   ]
  },
  {
   "cell_type": "code",
   "execution_count": 10,
   "metadata": {},
   "outputs": [
    {
     "data": {
      "text/plain": [
       "['cat', 'elephant', 'rat', 'rat', 'cat']"
      ]
     },
     "execution_count": 10,
     "metadata": {},
     "output_type": "execute_result"
    }
   ],
   "source": [
    "wordsRDD.collect()"
   ]
  },
  {
   "cell_type": "markdown",
   "metadata": {},
   "source": [
    "```\n",
    "15/10/21 14:59:59 INFO SparkContext: Starting job: collect at <ipython-input-6-dee494da0714>:1\n",
    "15/10/21 14:59:59 INFO DAGScheduler: Got job 0 (collect at <ipython-input-6-dee494da0714>:1) with 4 output partitions (allowLocal=false)\n",
    "15/10/21 14:59:59 INFO DAGScheduler: Final stage: ResultStage 0(collect at <ipython-input-6-dee494da0714>:1)\n",
    "15/10/21 14:59:59 INFO DAGScheduler: Parents of final stage: List()\n",
    "15/10/21 14:59:59 INFO DAGScheduler: Missing parents: List()\n",
    "15/10/21 14:59:59 INFO DAGScheduler: Submitting ResultStage 0 (ParallelCollectionRDD[0] at parallelize at PythonRDD.scala:396), which has no missing parents\n",
    "15/10/21 15:00:00 INFO MemoryStore: ensureFreeSpace(1224) called with curMem=0, maxMem=286300569\n",
    "15/10/21 15:00:00 INFO MemoryStore: Block broadcast_0 stored as values in memory (estimated size 1224.0 B, free 273.0 MB)\n",
    "15/10/21 15:00:00 INFO MemoryStore: ensureFreeSpace(777) called with curMem=1224, maxMem=286300569\n",
    "15/10/21 15:00:00 INFO MemoryStore: Block broadcast_0_piece0 stored as bytes in memory (estimated size 777.0 B, free 273.0 MB)\n",
    "15/10/21 15:00:00 INFO BlockManagerInfo: Added broadcast_0_piece0 in memory on localhost:64361 (size: 777.0 B, free: 273.0 MB)\n",
    "15/10/21 15:00:00 INFO SparkContext: Created broadcast 0 from broadcast at DAGScheduler.scala:874\n",
    "15/10/21 15:00:00 INFO DAGScheduler: Submitting 4 missing tasks from ResultStage 0 (ParallelCollectionRDD[0] at parallelize at PythonRDD.scala:396)\n",
    "15/10/21 15:00:00 INFO TaskSchedulerImpl: Adding task set 0.0 with 4 tasks\n",
    "15/10/21 15:00:00 INFO TaskSetManager: Starting task 0.0 in stage 0.0 (TID 0, localhost, PROCESS_LOCAL, 1379 bytes)\n",
    "15/10/21 15:00:00 INFO TaskSetManager: Starting task 1.0 in stage 0.0 (TID 1, localhost, PROCESS_LOCAL, 1384 bytes)\n",
    "15/10/21 15:00:00 INFO TaskSetManager: Starting task 2.0 in stage 0.0 (TID 2, localhost, PROCESS_LOCAL, 1379 bytes)\n",
    "15/10/21 15:00:00 INFO TaskSetManager: Starting task 3.0 in stage 0.0 (TID 3, localhost, PROCESS_LOCAL, 1403 bytes)\n",
    "15/10/21 15:00:00 INFO Executor: Running task 0.0 in stage 0.0 (TID 0)\n",
    "15/10/21 15:00:00 INFO Executor: Running task 2.0 in stage 0.0 (TID 2)\n",
    "15/10/21 15:00:00 INFO Executor: Running task 1.0 in stage 0.0 (TID 1)\n",
    "15/10/21 15:00:00 INFO Executor: Running task 3.0 in stage 0.0 (TID 3)\n",
    "15/10/21 15:00:00 INFO Executor: Finished task 1.0 in stage 0.0 (TID 1). 646 bytes result sent to driver\n",
    "15/10/21 15:00:00 INFO Executor: Finished task 3.0 in stage 0.0 (TID 3). 665 bytes result sent to driver\n",
    "15/10/21 15:00:00 INFO Executor: Finished task 0.0 in stage 0.0 (TID 0). 641 bytes result sent to driver\n",
    "15/10/21 15:00:00 INFO Executor: Finished task 2.0 in stage 0.0 (TID 2). 641 bytes result sent to driver\n",
    "15/10/21 15:00:00 INFO TaskSetManager: Finished task 1.0 in stage 0.0 (TID 1) in 61 ms on localhost (1/4)\n",
    "15/10/21 15:00:00 INFO TaskSetManager: Finished task 3.0 in stage 0.0 (TID 3) in 60 ms on localhost (2/4)\n",
    "15/10/21 15:00:00 INFO TaskSetManager: Finished task 0.0 in stage 0.0 (TID 0) in 96 ms on localhost (3/4)\n",
    "15/10/21 15:00:00 INFO TaskSetManager: Finished task 2.0 in stage 0.0 (TID 2) in 63 ms on localhost (4/4)\n",
    "15/10/21 15:00:00 INFO DAGScheduler: ResultStage 0 (collect at <ipython-input-6-dee494da0714>:1) finished in 0.120 s\n",
    "15/10/21 15:00:00 INFO TaskSchedulerImpl: Removed TaskSet 0.0, whose tasks have all completed, from pool\n",
    "15/10/21 15:00:00 INFO DAGScheduler: Job 0 finished: collect at <ipython-input-6-dee494da0714>:1, took 0.872367 s\n",
    "```"
   ]
  },
  {
   "cell_type": "markdown",
   "metadata": {},
   "source": [
    "### Operations on RDDs"
   ]
  },
  {
   "cell_type": "markdown",
   "metadata": {},
   "source": [
    "From the Spark Programming Guide:\n",
    "\n",
    ">RDDs support two types of operations: transformations, which create a new dataset from an existing one, and actions, which return a value to the driver program after running a computation on the dataset. For example, map is a transformation that passes each dataset element through a function and returns a new RDD representing the results. On the other hand, reduce is an action that aggregates all the elements of the RDD using some function and returns the final result to the driver program (although there is also a parallel reduceByKey that returns a distributed dataset)."
   ]
  },
  {
   "cell_type": "markdown",
   "metadata": {},
   "source": [
    "### Word Examples"
   ]
  },
  {
   "cell_type": "code",
   "execution_count": 11,
   "metadata": {},
   "outputs": [
    {
     "name": "stdout",
     "output_type": "stream",
     "text": [
      "cats\n"
     ]
    }
   ],
   "source": [
    "def makePlural(word):\n",
    "    return word + 's'\n",
    "\n",
    "print(makePlural('cat'))"
   ]
  },
  {
   "cell_type": "markdown",
   "metadata": {},
   "source": [
    "Transform one RDD into another."
   ]
  },
  {
   "cell_type": "code",
   "execution_count": 12,
   "metadata": {},
   "outputs": [
    {
     "name": "stdout",
     "output_type": "stream",
     "text": [
      "cats\n",
      "['cats', 'elephants']\n"
     ]
    }
   ],
   "source": [
    "pluralRDD = wordsRDD.map(makePlural)\n",
    "print(pluralRDD.first())\n",
    "print(pluralRDD.take(2))\n"
   ]
  },
  {
   "cell_type": "code",
   "execution_count": 13,
   "metadata": {},
   "outputs": [
    {
     "data": {
      "text/plain": [
       "['cats']"
      ]
     },
     "execution_count": 13,
     "metadata": {},
     "output_type": "execute_result"
    }
   ],
   "source": [
    "pluralRDD.take(1)"
   ]
  },
  {
   "cell_type": "code",
   "execution_count": 14,
   "metadata": {},
   "outputs": [
    {
     "data": {
      "text/plain": [
       "['cats', 'elephants', 'rats', 'rats', 'cats']"
      ]
     },
     "execution_count": 14,
     "metadata": {},
     "output_type": "execute_result"
    }
   ],
   "source": [
    "pluralRDD.collect()"
   ]
  },
  {
   "cell_type": "markdown",
   "metadata": {
    "slideshow": {
     "slide_type": "slide"
    }
   },
   "source": [
    "### Key Value Pairs"
   ]
  },
  {
   "cell_type": "code",
   "execution_count": 16,
   "metadata": {},
   "outputs": [
    {
     "name": "stdout",
     "output_type": "stream",
     "text": [
      "[('cat', 1), ('elephant', 1), ('rat', 1), ('rat', 1), ('cat', 1)]\n"
     ]
    }
   ],
   "source": [
    "wordPairs = wordsRDD.map(lambda w: (w, 1))\n",
    "print(wordPairs.collect())"
   ]
  },
  {
   "cell_type": "markdown",
   "metadata": {},
   "source": [
    "```\n",
    "➜  sparklect  ps auxwww | grep pyspark\n",
    "rahul           30685   0.4  0.8  3458120  68712 s012  S+    2:46PM   2:00.21 /System/Library/Java/JavaVirtualMachines/1.6.0.jdk/Contents/Home/bin/java -cp /usr/local/opt/apache-spark/libexec/conf/:/usr/local/opt/apache-spark/libexec/lib/spark-assembly-1.4.0-hadoop2.6.0.jar:/usr/local/opt/apache-spark/libexec/lib/datanucleus-api-jdo-3.2.6.jar:/usr/local/opt/apache-spark/libexec/lib/datanucleus-core-3.2.10.jar:/usr/local/opt/apache-spark/libexec/lib/datanucleus-rdbms-3.2.9.jar -Xms512m -Xmx512m -XX:MaxPermSize=128m org.apache.spark.deploy.SparkSubmit pyspark-shell\n",
    "rahul           31520   0.0  0.0  2432784    480 s011  R+    6:42PM   0:00.00 grep --color=auto --exclude-dir=.bzr --exclude-dir=.cvs --exclude-dir=.git --exclude-dir=.hg --exclude-dir=.svn pyspark\n",
    "rahul           31494   0.0  0.7  2548972  57288 s012  S     6:41PM   0:00.10 python -m pyspark.daemon\n",
    "rahul           31493   0.0  0.7  2548972  57308 s012  S     6:41PM   0:00.10 python -m pyspark.daemon\n",
    "rahul           31492   0.0  0.7  2548972  57288 s012  S     6:41PM   0:00.11 python -m pyspark.daemon\n",
    "rahul           31446   0.0  0.8  2548972  68460 s012  S     6:35PM   0:01.34 python -m pyspark.daemon\n",
    "```"
   ]
  },
  {
   "cell_type": "markdown",
   "metadata": {
    "slideshow": {
     "slide_type": "slide"
    }
   },
   "source": [
    "### WORD COUNT!\n",
    "\n",
    "This little exercise shows how to use mapreduce to calculate the counts of individual words in a list."
   ]
  },
  {
   "cell_type": "code",
   "execution_count": 17,
   "metadata": {},
   "outputs": [
    {
     "name": "stdout",
     "output_type": "stream",
     "text": [
      "[('cat', 2), ('elephant', 1), ('rat', 2)]\n"
     ]
    }
   ],
   "source": [
    "wordsList = ['cat', 'elephant', 'rat', 'rat', 'cat']\n",
    "wordsRDD = sc.parallelize(wordsList, 4)\n",
    "wordCountsCollected = (wordsRDD\n",
    "                       .map(lambda w: (w, 1))\n",
    "                       .reduceByKey(lambda x,y: x+y)\n",
    "                       .collect())\n",
    "print(wordCountsCollected)"
   ]
  },
  {
   "cell_type": "markdown",
   "metadata": {
    "slideshow": {
     "slide_type": "slide"
    }
   },
   "source": [
    "![Tons of shuffling](https://databricks.gitbooks.io/databricks-spark-knowledge-base/content/images/reduce_by.png)"
   ]
  },
  {
   "cell_type": "code",
   "execution_count": 21,
   "metadata": {},
   "outputs": [
    {
     "name": "stdout",
     "output_type": "stream",
     "text": [
      "b'(4) PythonRDD[29] at RDD at PythonRDD.scala:48 []\\n |  MapPartitionsRDD[28] at mapPartitions at PythonRDD.scala:122 []\\n |  ShuffledRDD[27] at partitionBy at NativeMethodAccessorImpl.java:0 []\\n +-(4) PairwiseRDD[26] at reduceByKey at <ipython-input-21-00e8853ca0b7>:3 []\\n    |  PythonRDD[25] at reduceByKey at <ipython-input-21-00e8853ca0b7>:3 []\\n    |  ParallelCollectionRDD[9] at parallelize at PythonRDD.scala:175 []'\n"
     ]
    }
   ],
   "source": [
    "print((wordsRDD\n",
    "    .map(lambda w: (w, 1))\n",
    "    .reduceByKey(lambda x,y: x+y)).toDebugString())"
   ]
  },
  {
   "cell_type": "markdown",
   "metadata": {
    "slideshow": {
     "slide_type": "slide"
    }
   },
   "source": [
    "### Using Cache"
   ]
  },
  {
   "cell_type": "code",
   "execution_count": 24,
   "metadata": {},
   "outputs": [
    {
     "name": "stdout",
     "output_type": "stream",
     "text": [
      "ParallelCollectionRDD[32] at parallelize at PythonRDD.scala:175\n",
      "5\n"
     ]
    }
   ],
   "source": [
    "wordsList = ['cat', 'elephant', 'rat', 'rat', 'cat']\n",
    "wordsRDD = sc.parallelize(wordsList, 4)\n",
    "print(wordsRDD)\n",
    "print(wordsRDD.count())"
   ]
  },
  {
   "cell_type": "markdown",
   "metadata": {},
   "source": [
    "Normally, every operation is run from the start. This may be inefficient in many cases. So when appropriate, we may want to cache the result the first time an operation is run on an RDD."
   ]
  },
  {
   "cell_type": "code",
   "execution_count": 25,
   "metadata": {},
   "outputs": [
    {
     "data": {
      "text/plain": [
       "5"
      ]
     },
     "execution_count": 25,
     "metadata": {},
     "output_type": "execute_result"
    }
   ],
   "source": [
    "#this is rerun from the start\n",
    "wordsRDD.count()"
   ]
  },
  {
   "cell_type": "code",
   "execution_count": 26,
   "metadata": {},
   "outputs": [
    {
     "data": {
      "text/plain": [
       "ParallelCollectionRDD[32] at parallelize at PythonRDD.scala:175"
      ]
     },
     "execution_count": 26,
     "metadata": {},
     "output_type": "execute_result"
    }
   ],
   "source": [
    "#default storage level (MEMORY_ONLY)\n",
    "wordsRDD.cache()#nothing done this is still lazy"
   ]
  },
  {
   "cell_type": "code",
   "execution_count": 27,
   "metadata": {},
   "outputs": [
    {
     "data": {
      "text/plain": [
       "5"
      ]
     },
     "execution_count": 27,
     "metadata": {},
     "output_type": "execute_result"
    }
   ],
   "source": [
    "#parallelize is rerun and cached because we told it to cache\n",
    "wordsRDD.count()"
   ]
  },
  {
   "cell_type": "code",
   "execution_count": 28,
   "metadata": {},
   "outputs": [
    {
     "data": {
      "text/plain": [
       "5"
      ]
     },
     "execution_count": 28,
     "metadata": {},
     "output_type": "execute_result"
    }
   ],
   "source": [
    "#this `sc.parallelize` is not rerun in this case\n",
    "wordsRDD.count()"
   ]
  },
  {
   "cell_type": "markdown",
   "metadata": {},
   "source": [
    "Where is this useful: it is when you have branching parts or loops, so that you dont do things again and again. Spark, being \"lazy\" will rerun the chain again. So `cache` or `persist` serves as a checkpoint, breaking the RDD chain or the *lineage*."
   ]
  },
  {
   "cell_type": "code",
   "execution_count": 29,
   "metadata": {},
   "outputs": [
    {
     "data": {
      "text/plain": [
       "{'cat': 'mammal',\n",
       " 'elephant': 'mammal',\n",
       " 'heron': 'bird',\n",
       " 'owl': 'bird',\n",
       " 'rat': 'mammal'}"
      ]
     },
     "execution_count": 29,
     "metadata": {},
     "output_type": "execute_result"
    }
   ],
   "source": [
    "birdsList=['heron','owl']\n",
    "animList=wordsList+birdsList\n",
    "animaldict={}\n",
    "for e in wordsList:\n",
    "    animaldict[e]='mammal'\n",
    "for e in birdsList:\n",
    "    animaldict[e]='bird'\n",
    "animaldict"
   ]
  },
  {
   "cell_type": "code",
   "execution_count": 30,
   "metadata": {},
   "outputs": [
    {
     "name": "stdout",
     "output_type": "stream",
     "text": [
      "5 2\n"
     ]
    }
   ],
   "source": [
    "animsrdd = sc.parallelize(animList, 4)\n",
    "animsrdd.cache()\n",
    "#below runs the whole chain but causes cache to be populated\n",
    "mammalcount=animsrdd.filter(lambda w: animaldict[w]=='mammal').count()\n",
    "#now only the filter is carried out\n",
    "birdcount=animsrdd.filter(lambda w: animaldict[w]=='bird').count()\n",
    "print(mammalcount, birdcount)"
   ]
  },
  {
   "cell_type": "code",
   "execution_count": null,
   "metadata": {
    "collapsed": true
   },
   "outputs": [],
   "source": []
  },
  {
   "cell_type": "markdown",
   "metadata": {},
   "source": [
    "### Exercises: Fun with MapReduce\n",
    "\n",
    "Read http://spark.apache.org/docs/latest/programming-guide.html for some useful background and then try out the following exercises"
   ]
  },
  {
   "cell_type": "markdown",
   "metadata": {},
   "source": [
    "The file `./sparklect/english.stop.txt` contains a list of English stopwords, while the file `./sparklect/shakes/juliuscaesar.txt` contains the entire text of Shakespeare's 'Julius Caesar'.\n",
    "\n",
    "* Load all of the stopwords into a Python list\n",
    "* Load the text of Julius Caesar into an RDD using the `sparkcontext.textfile()` method. Call it `juliusrdd`."
   ]
  },
  {
   "cell_type": "code",
   "execution_count": 31,
   "metadata": {},
   "outputs": [
    {
     "data": {
      "text/plain": [
       "['a\\n',\n",
       " \"a's\\n\",\n",
       " 'able\\n',\n",
       " 'about\\n',\n",
       " 'above\\n',\n",
       " 'according\\n',\n",
       " 'accordingly\\n',\n",
       " 'across\\n',\n",
       " 'actually\\n',\n",
       " 'after\\n',\n",
       " 'afterwards\\n',\n",
       " 'again\\n',\n",
       " 'against\\n',\n",
       " \"ain't\\n\",\n",
       " 'all\\n',\n",
       " 'allow\\n',\n",
       " 'allows\\n',\n",
       " 'almost\\n',\n",
       " 'alone\\n',\n",
       " 'along\\n',\n",
       " 'already\\n',\n",
       " 'also\\n',\n",
       " 'although\\n',\n",
       " 'always\\n',\n",
       " 'am\\n',\n",
       " 'among\\n',\n",
       " 'amongst\\n',\n",
       " 'an\\n',\n",
       " 'and\\n',\n",
       " 'another\\n',\n",
       " 'any\\n',\n",
       " 'anybody\\n',\n",
       " 'anyhow\\n',\n",
       " 'anyone\\n',\n",
       " 'anything\\n',\n",
       " 'anyway\\n',\n",
       " 'anyways\\n',\n",
       " 'anywhere\\n',\n",
       " 'apart\\n',\n",
       " 'appear\\n',\n",
       " 'appreciate\\n',\n",
       " 'appropriate\\n',\n",
       " 'are\\n',\n",
       " \"aren't\\n\",\n",
       " 'around\\n',\n",
       " 'as\\n',\n",
       " 'aside\\n',\n",
       " 'ask\\n',\n",
       " 'asking\\n',\n",
       " 'associated\\n',\n",
       " 'at\\n',\n",
       " 'available\\n',\n",
       " 'away\\n',\n",
       " 'awfully\\n',\n",
       " 'b\\n',\n",
       " 'be\\n',\n",
       " 'became\\n',\n",
       " 'because\\n',\n",
       " 'become\\n',\n",
       " 'becomes\\n',\n",
       " 'becoming\\n',\n",
       " 'been\\n',\n",
       " 'before\\n',\n",
       " 'beforehand\\n',\n",
       " 'behind\\n',\n",
       " 'being\\n',\n",
       " 'believe\\n',\n",
       " 'below\\n',\n",
       " 'beside\\n',\n",
       " 'besides\\n',\n",
       " 'best\\n',\n",
       " 'better\\n',\n",
       " 'between\\n',\n",
       " 'beyond\\n',\n",
       " 'both\\n',\n",
       " 'brief\\n',\n",
       " 'but\\n',\n",
       " 'by\\n',\n",
       " 'c\\n',\n",
       " \"c'mon\\n\",\n",
       " \"c's\\n\",\n",
       " 'came\\n',\n",
       " 'can\\n',\n",
       " \"can't\\n\",\n",
       " 'cannot\\n',\n",
       " 'cant\\n',\n",
       " 'cause\\n',\n",
       " 'causes\\n',\n",
       " 'certain\\n',\n",
       " 'certainly\\n',\n",
       " 'changes\\n',\n",
       " 'clearly\\n',\n",
       " 'co\\n',\n",
       " 'com\\n',\n",
       " 'come\\n',\n",
       " 'comes\\n',\n",
       " 'concerning\\n',\n",
       " 'consequently\\n',\n",
       " 'consider\\n',\n",
       " 'considering\\n',\n",
       " 'contain\\n',\n",
       " 'containing\\n',\n",
       " 'contains\\n',\n",
       " 'corresponding\\n',\n",
       " 'could\\n',\n",
       " \"couldn't\\n\",\n",
       " 'course\\n',\n",
       " 'currently\\n',\n",
       " 'd\\n',\n",
       " 'definitely\\n',\n",
       " 'described\\n',\n",
       " 'despite\\n',\n",
       " 'did\\n',\n",
       " \"didn't\\n\",\n",
       " 'different\\n',\n",
       " 'do\\n',\n",
       " 'does\\n',\n",
       " \"doesn't\\n\",\n",
       " 'doing\\n',\n",
       " \"don't\\n\",\n",
       " 'done\\n',\n",
       " 'down\\n',\n",
       " 'downwards\\n',\n",
       " 'during\\n',\n",
       " 'e\\n',\n",
       " 'each\\n',\n",
       " 'edu\\n',\n",
       " 'eg\\n',\n",
       " 'eight\\n',\n",
       " 'either\\n',\n",
       " 'else\\n',\n",
       " 'elsewhere\\n',\n",
       " 'enough\\n',\n",
       " 'entirely\\n',\n",
       " 'especially\\n',\n",
       " 'et\\n',\n",
       " 'etc\\n',\n",
       " 'even\\n',\n",
       " 'ever\\n',\n",
       " 'every\\n',\n",
       " 'everybody\\n',\n",
       " 'everyone\\n',\n",
       " 'everything\\n',\n",
       " 'everywhere\\n',\n",
       " 'ex\\n',\n",
       " 'exactly\\n',\n",
       " 'example\\n',\n",
       " 'except\\n',\n",
       " 'f\\n',\n",
       " 'far\\n',\n",
       " 'few\\n',\n",
       " 'fifth\\n',\n",
       " 'first\\n',\n",
       " 'five\\n',\n",
       " 'followed\\n',\n",
       " 'following\\n',\n",
       " 'follows\\n',\n",
       " 'for\\n',\n",
       " 'former\\n',\n",
       " 'formerly\\n',\n",
       " 'forth\\n',\n",
       " 'four\\n',\n",
       " 'from\\n',\n",
       " 'further\\n',\n",
       " 'furthermore\\n',\n",
       " 'g\\n',\n",
       " 'get\\n',\n",
       " 'gets\\n',\n",
       " 'getting\\n',\n",
       " 'given\\n',\n",
       " 'gives\\n',\n",
       " 'go\\n',\n",
       " 'goes\\n',\n",
       " 'going\\n',\n",
       " 'gone\\n',\n",
       " 'got\\n',\n",
       " 'gotten\\n',\n",
       " 'greetings\\n',\n",
       " 'h\\n',\n",
       " 'had\\n',\n",
       " \"hadn't\\n\",\n",
       " 'happens\\n',\n",
       " 'hardly\\n',\n",
       " 'has\\n',\n",
       " \"hasn't\\n\",\n",
       " 'have\\n',\n",
       " \"haven't\\n\",\n",
       " 'having\\n',\n",
       " 'he\\n',\n",
       " \"he's\\n\",\n",
       " 'hello\\n',\n",
       " 'help\\n',\n",
       " 'hence\\n',\n",
       " 'her\\n',\n",
       " 'here\\n',\n",
       " \"here's\\n\",\n",
       " 'hereafter\\n',\n",
       " 'hereby\\n',\n",
       " 'herein\\n',\n",
       " 'hereupon\\n',\n",
       " 'hers\\n',\n",
       " 'herself\\n',\n",
       " 'hi\\n',\n",
       " 'him\\n',\n",
       " 'himself\\n',\n",
       " 'his\\n',\n",
       " 'hither\\n',\n",
       " 'hopefully\\n',\n",
       " 'how\\n',\n",
       " 'howbeit\\n',\n",
       " 'however\\n',\n",
       " 'i\\n',\n",
       " \"i'd\\n\",\n",
       " \"i'll\\n\",\n",
       " \"i'm\\n\",\n",
       " \"i've\\n\",\n",
       " 'ie\\n',\n",
       " 'if\\n',\n",
       " 'ignored\\n',\n",
       " 'immediate\\n',\n",
       " 'in\\n',\n",
       " 'inasmuch\\n',\n",
       " 'inc\\n',\n",
       " 'indeed\\n',\n",
       " 'indicate\\n',\n",
       " 'indicated\\n',\n",
       " 'indicates\\n',\n",
       " 'inner\\n',\n",
       " 'insofar\\n',\n",
       " 'instead\\n',\n",
       " 'into\\n',\n",
       " 'inward\\n',\n",
       " 'is\\n',\n",
       " \"isn't\\n\",\n",
       " 'it\\n',\n",
       " \"it'd\\n\",\n",
       " \"it'll\\n\",\n",
       " \"it's\\n\",\n",
       " 'its\\n',\n",
       " 'itself\\n',\n",
       " 'j\\n',\n",
       " 'just\\n',\n",
       " 'k\\n',\n",
       " 'keep\\n',\n",
       " 'keeps\\n',\n",
       " 'kept\\n',\n",
       " 'know\\n',\n",
       " 'knows\\n',\n",
       " 'known\\n',\n",
       " 'l\\n',\n",
       " 'last\\n',\n",
       " 'lately\\n',\n",
       " 'later\\n',\n",
       " 'latter\\n',\n",
       " 'latterly\\n',\n",
       " 'least\\n',\n",
       " 'less\\n',\n",
       " 'lest\\n',\n",
       " 'let\\n',\n",
       " \"let's\\n\",\n",
       " 'like\\n',\n",
       " 'liked\\n',\n",
       " 'likely\\n',\n",
       " 'little\\n',\n",
       " 'look\\n',\n",
       " 'looking\\n',\n",
       " 'looks\\n',\n",
       " 'ltd\\n',\n",
       " 'm\\n',\n",
       " 'mainly\\n',\n",
       " 'many\\n',\n",
       " 'may\\n',\n",
       " 'maybe\\n',\n",
       " 'me\\n',\n",
       " 'mean\\n',\n",
       " 'meanwhile\\n',\n",
       " 'merely\\n',\n",
       " 'might\\n',\n",
       " 'more\\n',\n",
       " 'moreover\\n',\n",
       " 'most\\n',\n",
       " 'mostly\\n',\n",
       " 'much\\n',\n",
       " 'must\\n',\n",
       " 'my\\n',\n",
       " 'myself\\n',\n",
       " 'n\\n',\n",
       " 'name\\n',\n",
       " 'namely\\n',\n",
       " 'nd\\n',\n",
       " 'near\\n',\n",
       " 'nearly\\n',\n",
       " 'necessary\\n',\n",
       " 'need\\n',\n",
       " 'needs\\n',\n",
       " 'neither\\n',\n",
       " 'never\\n',\n",
       " 'nevertheless\\n',\n",
       " 'new\\n',\n",
       " 'next\\n',\n",
       " 'nine\\n',\n",
       " 'no\\n',\n",
       " 'nobody\\n',\n",
       " 'non\\n',\n",
       " 'none\\n',\n",
       " 'noone\\n',\n",
       " 'nor\\n',\n",
       " 'normally\\n',\n",
       " 'not\\n',\n",
       " 'nothing\\n',\n",
       " 'novel\\n',\n",
       " 'now\\n',\n",
       " 'nowhere\\n',\n",
       " 'o\\n',\n",
       " 'obviously\\n',\n",
       " 'of\\n',\n",
       " 'off\\n',\n",
       " 'often\\n',\n",
       " 'oh\\n',\n",
       " 'ok\\n',\n",
       " 'okay\\n',\n",
       " 'old\\n',\n",
       " 'on\\n',\n",
       " 'once\\n',\n",
       " 'one\\n',\n",
       " 'ones\\n',\n",
       " 'only\\n',\n",
       " 'onto\\n',\n",
       " 'or\\n',\n",
       " 'other\\n',\n",
       " 'others\\n',\n",
       " 'otherwise\\n',\n",
       " 'ought\\n',\n",
       " 'our\\n',\n",
       " 'ours\\n',\n",
       " 'ourselves\\n',\n",
       " 'out\\n',\n",
       " 'outside\\n',\n",
       " 'over\\n',\n",
       " 'overall\\n',\n",
       " 'own\\n',\n",
       " 'p\\n',\n",
       " 'particular\\n',\n",
       " 'particularly\\n',\n",
       " 'per\\n',\n",
       " 'perhaps\\n',\n",
       " 'placed\\n',\n",
       " 'please\\n',\n",
       " 'plus\\n',\n",
       " 'possible\\n',\n",
       " 'presumably\\n',\n",
       " 'probably\\n',\n",
       " 'provides\\n',\n",
       " 'q\\n',\n",
       " 'que\\n',\n",
       " 'quite\\n',\n",
       " 'qv\\n',\n",
       " 'r\\n',\n",
       " 'rather\\n',\n",
       " 'rd\\n',\n",
       " 're\\n',\n",
       " 'really\\n',\n",
       " 'reasonably\\n',\n",
       " 'regarding\\n',\n",
       " 'regardless\\n',\n",
       " 'regards\\n',\n",
       " 'relatively\\n',\n",
       " 'respectively\\n',\n",
       " 'right\\n',\n",
       " 's\\n',\n",
       " 'said\\n',\n",
       " 'same\\n',\n",
       " 'saw\\n',\n",
       " 'say\\n',\n",
       " 'saying\\n',\n",
       " 'says\\n',\n",
       " 'second\\n',\n",
       " 'secondly\\n',\n",
       " 'see\\n',\n",
       " 'seeing\\n',\n",
       " 'seem\\n',\n",
       " 'seemed\\n',\n",
       " 'seeming\\n',\n",
       " 'seems\\n',\n",
       " 'seen\\n',\n",
       " 'self\\n',\n",
       " 'selves\\n',\n",
       " 'sensible\\n',\n",
       " 'sent\\n',\n",
       " 'serious\\n',\n",
       " 'seriously\\n',\n",
       " 'seven\\n',\n",
       " 'several\\n',\n",
       " 'shall\\n',\n",
       " 'she\\n',\n",
       " 'should\\n',\n",
       " \"shouldn't\\n\",\n",
       " 'since\\n',\n",
       " 'six\\n',\n",
       " 'so\\n',\n",
       " 'some\\n',\n",
       " 'somebody\\n',\n",
       " 'somehow\\n',\n",
       " 'someone\\n',\n",
       " 'something\\n',\n",
       " 'sometime\\n',\n",
       " 'sometimes\\n',\n",
       " 'somewhat\\n',\n",
       " 'somewhere\\n',\n",
       " 'soon\\n',\n",
       " 'sorry\\n',\n",
       " 'specified\\n',\n",
       " 'specify\\n',\n",
       " 'specifying\\n',\n",
       " 'still\\n',\n",
       " 'sub\\n',\n",
       " 'such\\n',\n",
       " 'sup\\n',\n",
       " 'sure\\n',\n",
       " 't\\n',\n",
       " \"t's\\n\",\n",
       " 'take\\n',\n",
       " 'taken\\n',\n",
       " 'tell\\n',\n",
       " 'tends\\n',\n",
       " 'th\\n',\n",
       " 'than\\n',\n",
       " 'thank\\n',\n",
       " 'thanks\\n',\n",
       " 'thanx\\n',\n",
       " 'that\\n',\n",
       " \"that's\\n\",\n",
       " 'thats\\n',\n",
       " 'the\\n',\n",
       " 'their\\n',\n",
       " 'theirs\\n',\n",
       " 'them\\n',\n",
       " 'themselves\\n',\n",
       " 'then\\n',\n",
       " 'thence\\n',\n",
       " 'there\\n',\n",
       " \"there's\\n\",\n",
       " 'thereafter\\n',\n",
       " 'thereby\\n',\n",
       " 'therefore\\n',\n",
       " 'therein\\n',\n",
       " 'theres\\n',\n",
       " 'thereupon\\n',\n",
       " 'these\\n',\n",
       " 'they\\n',\n",
       " \"they'd\\n\",\n",
       " \"they'll\\n\",\n",
       " \"they're\\n\",\n",
       " \"they've\\n\",\n",
       " 'think\\n',\n",
       " 'third\\n',\n",
       " 'this\\n',\n",
       " 'thorough\\n',\n",
       " 'thoroughly\\n',\n",
       " 'those\\n',\n",
       " 'though\\n',\n",
       " 'three\\n',\n",
       " 'through\\n',\n",
       " 'throughout\\n',\n",
       " 'thru\\n',\n",
       " 'thus\\n',\n",
       " 'to\\n',\n",
       " 'together\\n',\n",
       " 'too\\n',\n",
       " 'took\\n',\n",
       " 'toward\\n',\n",
       " 'towards\\n',\n",
       " 'tried\\n',\n",
       " 'tries\\n',\n",
       " 'truly\\n',\n",
       " 'try\\n',\n",
       " 'trying\\n',\n",
       " 'twice\\n',\n",
       " 'two\\n',\n",
       " 'u\\n',\n",
       " 'un\\n',\n",
       " 'under\\n',\n",
       " 'unfortunately\\n',\n",
       " 'unless\\n',\n",
       " 'unlikely\\n',\n",
       " 'until\\n',\n",
       " 'unto\\n',\n",
       " 'up\\n',\n",
       " 'upon\\n',\n",
       " 'us\\n',\n",
       " 'use\\n',\n",
       " 'used\\n',\n",
       " 'useful\\n',\n",
       " 'uses\\n',\n",
       " 'using\\n',\n",
       " 'usually\\n',\n",
       " 'uucp\\n',\n",
       " 'v\\n',\n",
       " 'value\\n',\n",
       " 'various\\n',\n",
       " 'very\\n',\n",
       " 'via\\n',\n",
       " 'viz\\n',\n",
       " 'vs\\n',\n",
       " 'w\\n',\n",
       " 'want\\n',\n",
       " 'wants\\n',\n",
       " 'was\\n',\n",
       " \"wasn't\\n\",\n",
       " 'way\\n',\n",
       " 'we\\n',\n",
       " \"we'd\\n\",\n",
       " \"we'll\\n\",\n",
       " \"we're\\n\",\n",
       " \"we've\\n\",\n",
       " 'welcome\\n',\n",
       " 'well\\n',\n",
       " 'went\\n',\n",
       " 'were\\n',\n",
       " \"weren't\\n\",\n",
       " 'what\\n',\n",
       " \"what's\\n\",\n",
       " 'whatever\\n',\n",
       " 'when\\n',\n",
       " 'whence\\n',\n",
       " 'whenever\\n',\n",
       " 'where\\n',\n",
       " \"where's\\n\",\n",
       " 'whereafter\\n',\n",
       " 'whereas\\n',\n",
       " 'whereby\\n',\n",
       " 'wherein\\n',\n",
       " 'whereupon\\n',\n",
       " 'wherever\\n',\n",
       " 'whether\\n',\n",
       " 'which\\n',\n",
       " 'while\\n',\n",
       " 'whither\\n',\n",
       " 'who\\n',\n",
       " \"who's\\n\",\n",
       " 'whoever\\n',\n",
       " 'whole\\n',\n",
       " 'whom\\n',\n",
       " 'whose\\n',\n",
       " 'why\\n',\n",
       " 'will\\n',\n",
       " 'willing\\n',\n",
       " 'wish\\n',\n",
       " 'with\\n',\n",
       " 'within\\n',\n",
       " 'without\\n',\n",
       " \"won't\\n\",\n",
       " 'wonder\\n',\n",
       " 'would\\n',\n",
       " 'would\\n',\n",
       " \"wouldn't\\n\",\n",
       " 'x\\n',\n",
       " 'y\\n',\n",
       " 'yes\\n',\n",
       " 'yet\\n',\n",
       " 'you\\n',\n",
       " \"you'd\\n\",\n",
       " \"you'll\\n\",\n",
       " \"you're\\n\",\n",
       " \"you've\\n\",\n",
       " 'your\\n',\n",
       " 'yours\\n',\n",
       " 'yourself\\n',\n",
       " 'yourselves\\n',\n",
       " 'z\\n',\n",
       " 'zero\\n']"
      ]
     },
     "execution_count": 31,
     "metadata": {},
     "output_type": "execute_result"
    }
   ],
   "source": [
    "# your turn\n",
    "stop_file = open('/Users/kaizen/Data Science/Springboard/Misc/spark/sparklect/english.stop.txt', 'r')\n",
    "stop = stop_file.readlines()\n",
    "stop"
   ]
  },
  {
   "cell_type": "code",
   "execution_count": 33,
   "metadata": {},
   "outputs": [
    {
     "data": {
      "text/plain": [
       "/Users/kaizen/Data Science/Springboard/Misc/spark/sparklect/shakes/juliuscaesar.txt MapPartitionsRDD[41] at textFile at NativeMethodAccessorImpl.java:0"
      ]
     },
     "execution_count": 33,
     "metadata": {},
     "output_type": "execute_result"
    }
   ],
   "source": [
    "juliusrdd = sc.textFile('/Users/kaizen/Data Science/Springboard/Misc/spark/sparklect/shakes/juliuscaesar.txt')\n",
    "juliusrdd"
   ]
  },
  {
   "cell_type": "markdown",
   "metadata": {},
   "source": [
    "How many words does Julius Caesar have? *Hint: use `flatMap()`*."
   ]
  },
  {
   "cell_type": "code",
   "execution_count": 108,
   "metadata": {},
   "outputs": [
    {
     "data": {
      "text/plain": [
       "21245"
      ]
     },
     "execution_count": 108,
     "metadata": {},
     "output_type": "execute_result"
    }
   ],
   "source": [
    "# your turn\n",
    "lines = juliusrdd.filter(lambda x: x)\n",
    "words = lines.flatMap(lambda l: l.split(\" \"))\n",
    "words2 = words.filter(lambda x: x)\n",
    "totalwords = words2.count()\n",
    "totalwords"
   ]
  },
  {
   "cell_type": "markdown",
   "metadata": {},
   "source": [
    "Now print the first 20 words of Julius Caesar as a Python list."
   ]
  },
  {
   "cell_type": "code",
   "execution_count": 109,
   "metadata": {},
   "outputs": [
    {
     "data": {
      "text/plain": [
       "['1599',\n",
       " 'THE',\n",
       " 'TRAGEDY',\n",
       " 'OF',\n",
       " 'JULIUS',\n",
       " 'CAESAR',\n",
       " 'by',\n",
       " 'William',\n",
       " 'Shakespeare',\n",
       " 'Dramatis',\n",
       " 'Personae',\n",
       " '',\n",
       " '',\n",
       " 'JULIUS',\n",
       " 'CAESAR,',\n",
       " 'Roman',\n",
       " 'statesman',\n",
       " 'and',\n",
       " 'general',\n",
       " '']"
      ]
     },
     "execution_count": 109,
     "metadata": {},
     "output_type": "execute_result"
    }
   ],
   "source": [
    "# your turn\n",
    "words.take(20)"
   ]
  },
  {
   "cell_type": "markdown",
   "metadata": {},
   "source": [
    "Now print the first 20 words of Julius Caesar, **after removing all the stopwords**. *Hint: use `filter()`*."
   ]
  },
  {
   "cell_type": "code",
   "execution_count": 110,
   "metadata": {},
   "outputs": [
    {
     "data": {
      "text/plain": [
       "['1599',\n",
       " 'THE TRAGEDY OF JULIUS CAESAR',\n",
       " '',\n",
       " 'by William Shakespeare',\n",
       " '',\n",
       " '',\n",
       " '',\n",
       " 'Dramatis Personae',\n",
       " '',\n",
       " '  JULIUS CAESAR, Roman statesman and general',\n",
       " \"  OCTAVIUS, Triumvir after Caesar's death, later Augustus Caesar,\",\n",
       " '    first emperor of Rome',\n",
       " '  MARK ANTONY, general and friend of Caesar, a Triumvir after his',\n",
       " 'death',\n",
       " '  LEPIDUS, third member of the Triumvirate',\n",
       " '  MARCUS BRUTUS, leader of the conspiracy against Caesar',\n",
       " '  CASSIUS, instigator of the conspiracy',\n",
       " '  CASCA,          conspirator against Caesar',\n",
       " '  TREBONIUS,           \"          \"     \"',\n",
       " '  CAIUS LIGARIUS,      \"          \"     \"']"
      ]
     },
     "execution_count": 110,
     "metadata": {},
     "output_type": "execute_result"
    }
   ],
   "source": [
    "nostop = juliusrdd.filter(lambda x: x not in stop)\n",
    "nostop.take(20)"
   ]
  },
  {
   "cell_type": "markdown",
   "metadata": {},
   "source": [
    "Now, use the word counting MapReduce code you've seen before. Count the number of times each word occurs and print the top 20 results as a list of tuples of the form `(word, count)`. *Hint: use `takeOrdered()` instead of `take()`*"
   ]
  },
  {
   "cell_type": "code",
   "execution_count": 111,
   "metadata": {},
   "outputs": [
    {
     "data": {
      "text/plain": [
       "[('and', 632),\n",
       " ('the', 612),\n",
       " ('i', 497),\n",
       " ('to', 416),\n",
       " ('of', 385),\n",
       " ('you', 313),\n",
       " ('that', 273),\n",
       " ('a', 267),\n",
       " ('is', 248),\n",
       " ('in', 223),\n",
       " ('not', 213),\n",
       " ('brutus.', 211),\n",
       " ('my', 189),\n",
       " ('he', 184),\n",
       " ('for', 177),\n",
       " ('with', 162),\n",
       " ('his', 160),\n",
       " ('it', 154),\n",
       " ('be', 152),\n",
       " ('cassius.', 152)]"
      ]
     },
     "execution_count": 111,
     "metadata": {},
     "output_type": "execute_result"
    }
   ],
   "source": [
    "# your turn\n",
    "lowercaseWords = words2.map(lambda x: x.lower())\n",
    "wordcount = lowercaseWords.map(lambda word: (word, 1)).reduceByKey(lambda a, b: a + b)\n",
    "Top20Words = wordcount.takeOrdered(20, key = lambda x: -x[1])\n",
    "Top20Words"
   ]
  },
  {
   "cell_type": "markdown",
   "metadata": {},
   "source": [
    "Plot a bar graph. For each of the top 20 words on the X axis, represent the count on the Y axis."
   ]
  },
  {
   "cell_type": "code",
   "execution_count": 117,
   "metadata": {},
   "outputs": [
    {
     "data": {
      "image/png": "[encoded data removed]",
      "text/plain": [
       "<matplotlib.figure.Figure at 0x1a1b7b39e8>"
      ]
     },
     "metadata": {},
     "output_type": "display_data"
    }
   ],
   "source": [
    "# your turn\n",
    "import numpy as np\n",
    "import matplotlib.pyplot as plt\n",
    "\n",
    "word = []\n",
    "frequency = []\n",
    "\n",
    "for i in range(len(Top20Words)):\n",
    "  word.append(Top20Words[i][0])\n",
    "  frequency.append(Top20Words[i][1])\n",
    "\n",
    "indices = np.arange(len(Top20Words))\n",
    "plt.bar(indices, frequency, color='r')\n",
    "plt.xticks(indices, word, rotation=45)\n",
    "plt.tight_layout()\n",
    "plt.show()\n"
   ]
  },
  {
   "cell_type": "markdown",
   "metadata": {},
   "source": [
    "### Using partitions for parallelization"
   ]
  },
  {
   "cell_type": "markdown",
   "metadata": {},
   "source": [
    "In order to make your code more efficient, you want to use all of the available processing power, even on a single laptop. If your machine has multiple cores, you can tune the number of partitions to use all of them! From http://www.stat.berkeley.edu/scf/paciorek-spark-2014.html:\n",
    "\n",
    ">You want each partition to be able to fit in the memory availalbe on a node, and if you have multi-core nodes, you want that as many partitions as there are cores be able to fit in memory.\n",
    "\n",
    ">For load-balancing you'll want at least as many partitions as total computational cores in your cluster and probably rather more partitions. The Spark documentation suggests 2-4 partitions (which they also seem to call slices) per CPU. Often there are 100-10,000 partitions. Another rule of thumb is that tasks should take at least 100 ms. If less than that, you may want to repartition to have fewer partitions."
   ]
  },
  {
   "cell_type": "code",
   "execution_count": 118,
   "metadata": {},
   "outputs": [],
   "source": [
    "shakesrdd=sc.textFile(\"./sparklect/shakes/*.txt\", minPartitions=4)"
   ]
  },
  {
   "cell_type": "code",
   "execution_count": 119,
   "metadata": {},
   "outputs": [
    {
     "data": {
      "text/plain": [
       "['XXXX',\n",
       " \"A MIDSUMMER NIGHT'S DREAM\",\n",
       " '',\n",
       " 'by William Shakespeare',\n",
       " '',\n",
       " '',\n",
       " '',\n",
       " '',\n",
       " 'Persons Represented.',\n",
       " '']"
      ]
     },
     "execution_count": 119,
     "metadata": {},
     "output_type": "execute_result"
    }
   ],
   "source": [
    "shakesrdd.take(10)"
   ]
  },
  {
   "cell_type": "markdown",
   "metadata": {},
   "source": [
    "Now calculate the top 20 words in all of the files that you just read."
   ]
  },
  {
   "cell_type": "code",
   "execution_count": 128,
   "metadata": {},
   "outputs": [
    {
     "data": {
      "text/plain": [
       "[('the', 11364),\n",
       " ('and', 10490),\n",
       " ('i', 8131),\n",
       " ('to', 7720),\n",
       " ('of', 6523),\n",
       " ('a', 5865),\n",
       " ('my', 5019),\n",
       " ('you', 4845),\n",
       " ('in', 4371),\n",
       " ('that', 4269),\n",
       " ('is', 3657),\n",
       " ('with', 3253),\n",
       " ('not', 3196),\n",
       " ('for', 3085),\n",
       " ('your', 2898),\n",
       " ('be', 2689),\n",
       " ('it', 2599),\n",
       " ('his', 2552),\n",
       " ('he', 2484),\n",
       " ('this', 2439)]"
      ]
     },
     "execution_count": 128,
     "metadata": {},
     "output_type": "execute_result"
    }
   ],
   "source": [
    "# your turn\n",
    "NoEmptyLines = shakesrdd.filter(lambda x: x)\n",
    "Splitlines = NoEmptyLines.flatMap(lambda l: l.split(\" \"))\n",
    "NoEmptySpaces = Splitlines.filter(lambda x: x)\n",
    "LowerCase = NoEmptySpaces.map(lambda x: x.lower())\n",
    "EliminateStop = LowerCase.filter(lambda w: w not in stop)\n",
    "CountWords = EliminateStop.map(lambda word: (word, 1)).reduceByKey(lambda a, b: a + b)\n",
    "TopTwenty = CountWords.takeOrdered(20, key = lambda x: -x[1])\n",
    "TopTwenty\n"
   ]
  },
  {
   "cell_type": "markdown",
   "metadata": {},
   "source": [
    "## Optional topic 1: DataFrames\n",
    "\n",
    "Pandas and Spark dataframes can be easily converted to each other, making it easier to work with different data formats. This section shows some examples of each."
   ]
  },
  {
   "cell_type": "markdown",
   "metadata": {},
   "source": [
    "Convert Spark DataFrame to Pandas\n",
    "\n",
    "`pandas_df = spark_df.toPandas()`\n",
    "\n",
    "Create a Spark DataFrame from Pandas\n",
    "\n",
    "`spark_df = context.createDataFrame(pandas_df)`\n",
    "\n",
    "Must fit in memory.\n",
    "\n",
    "![](https://ogirardot.files.wordpress.com/2015/05/rdd-vs-dataframe.png?w=640&h=360)\n",
    "\n",
    "VERY IMPORTANT: DataFrames in Spark are like RDD in the sense that they’re an immutable data structure."
   ]
  },
  {
   "cell_type": "code",
   "execution_count": 129,
   "metadata": {},
   "outputs": [
    {
     "data": {
      "text/html": [
       "<div>\n",
       "<style scoped>\n",
       "    .dataframe tbody tr th:only-of-type {\n",
       "        vertical-align: middle;\n",
       "    }\n",
       "\n",
       "    .dataframe tbody tr th {\n",
       "        vertical-align: top;\n",
       "    }\n",
       "\n",
       "    .dataframe thead th {\n",
       "        text-align: right;\n",
       "    }\n",
       "</style>\n",
       "<table border=\"1\" class=\"dataframe\">\n",
       "  <thead>\n",
       "    <tr style=\"text-align: right;\">\n",
       "      <th></th>\n",
       "      <th>Gender</th>\n",
       "      <th>Height</th>\n",
       "      <th>Weight</th>\n",
       "    </tr>\n",
       "  </thead>\n",
       "  <tbody>\n",
       "    <tr>\n",
       "      <th>0</th>\n",
       "      <td>Male</td>\n",
       "      <td>73.847017</td>\n",
       "      <td>241.893563</td>\n",
       "    </tr>\n",
       "    <tr>\n",
       "      <th>1</th>\n",
       "      <td>Male</td>\n",
       "      <td>68.781904</td>\n",
       "      <td>162.310473</td>\n",
       "    </tr>\n",
       "    <tr>\n",
       "      <th>2</th>\n",
       "      <td>Male</td>\n",
       "      <td>74.110105</td>\n",
       "      <td>212.740856</td>\n",
       "    </tr>\n",
       "    <tr>\n",
       "      <th>3</th>\n",
       "      <td>Male</td>\n",
       "      <td>71.730978</td>\n",
       "      <td>220.042470</td>\n",
       "    </tr>\n",
       "    <tr>\n",
       "      <th>4</th>\n",
       "      <td>Male</td>\n",
       "      <td>69.881796</td>\n",
       "      <td>206.349801</td>\n",
       "    </tr>\n",
       "  </tbody>\n",
       "</table>\n",
       "</div>"
      ],
      "text/plain": [
       "  Gender     Height      Weight\n",
       "0   Male  73.847017  241.893563\n",
       "1   Male  68.781904  162.310473\n",
       "2   Male  74.110105  212.740856\n",
       "3   Male  71.730978  220.042470\n",
       "4   Male  69.881796  206.349801"
      ]
     },
     "execution_count": 129,
     "metadata": {},
     "output_type": "execute_result"
    }
   ],
   "source": [
    "df=pd.read_csv(\"sparklect/01_heights_weights_genders.csv\")\n",
    "df.head()"
   ]
  },
  {
   "cell_type": "markdown",
   "metadata": {},
   "source": [
    "Convert this pandas dataframe to a Spark dataframe"
   ]
  },
  {
   "cell_type": "code",
   "execution_count": 130,
   "metadata": {},
   "outputs": [
    {
     "data": {
      "text/plain": [
       "DataFrame[Gender: string, Height: double, Weight: double]"
      ]
     },
     "execution_count": 130,
     "metadata": {},
     "output_type": "execute_result"
    }
   ],
   "source": [
    "from pyspark.sql import SQLContext\n",
    "sqlsc=SQLContext(sc)\n",
    "sparkdf = sqlsc.createDataFrame(df)\n",
    "sparkdf"
   ]
  },
  {
   "cell_type": "code",
   "execution_count": 131,
   "metadata": {},
   "outputs": [
    {
     "name": "stdout",
     "output_type": "stream",
     "text": [
      "+------+-----------------+----------------+\n",
      "|Gender|           Height|          Weight|\n",
      "+------+-----------------+----------------+\n",
      "|  Male|  73.847017017515|241.893563180437|\n",
      "|  Male|68.78190404589029|  162.3104725213|\n",
      "|  Male|74.11010539178491|  212.7408555565|\n",
      "|  Male| 71.7309784033377|220.042470303077|\n",
      "|  Male| 69.8817958611153|206.349800623871|\n",
      "+------+-----------------+----------------+\n",
      "only showing top 5 rows\n",
      "\n"
     ]
    }
   ],
   "source": [
    "sparkdf.show(5)"
   ]
  },
  {
   "cell_type": "code",
   "execution_count": 132,
   "metadata": {},
   "outputs": [
    {
     "data": {
      "text/plain": [
       "pyspark.sql.column.Column"
      ]
     },
     "execution_count": 132,
     "metadata": {},
     "output_type": "execute_result"
    }
   ],
   "source": [
    "type(sparkdf.Gender)"
   ]
  },
  {
   "cell_type": "code",
   "execution_count": 134,
   "metadata": {},
   "outputs": [
    {
     "name": "stdout",
     "output_type": "stream",
     "text": [
      "<class 'pyspark.rdd.PipelinedRDD'>\n"
     ]
    },
    {
     "data": {
      "text/plain": [
       "['Male',\n",
       " 'Male',\n",
       " 'Male',\n",
       " 'Male',\n",
       " 'Male',\n",
       " 'Male',\n",
       " 'Male',\n",
       " 'Male',\n",
       " 'Male',\n",
       " 'Male']"
      ]
     },
     "execution_count": 134,
     "metadata": {},
     "output_type": "execute_result"
    }
   ],
   "source": [
    "# You can't call .map() on a DataFrame directly - you first have to convert it into an RDD\n",
    "temp = sparkdf.rdd.map(lambda r: r.Gender)\n",
    "print(type(temp))\n",
    "temp.take(10)"
   ]
  },
  {
   "cell_type": "markdown",
   "metadata": {},
   "source": [
    "## Optional topic 2: Machine Learning using Spark\n",
    "\n"
   ]
  },
  {
   "cell_type": "code",
   "execution_count": 138,
   "metadata": {},
   "outputs": [],
   "source": [
    "from pyspark.mllib.classification import LogisticRegressionWithLBFGS\n",
    "from pyspark.mllib.regression import LabeledPoint"
   ]
  },
  {
   "cell_type": "markdown",
   "metadata": {},
   "source": [
    "Now create a data set from the Spark dataframe"
   ]
  },
  {
   "cell_type": "code",
   "execution_count": null,
   "metadata": {},
   "outputs": [],
   "source": [
    "data=sparkdf.map(lambda row: LabeledPoint(row.Gender=='Male',[row.Height, row.Weight]))\n",
    "data.take(5)"
   ]
  },
  {
   "cell_type": "code",
   "execution_count": null,
   "metadata": {},
   "outputs": [],
   "source": [
    "data2=sparkdf.map(lambda row: LabeledPoint(row[0]=='Male',row[1:]))\n",
    "data2.take(1)[0].label, data2.take(1)[0].features"
   ]
  },
  {
   "cell_type": "markdown",
   "metadata": {},
   "source": [
    "Split the data set into training and test sets"
   ]
  },
  {
   "cell_type": "code",
   "execution_count": null,
   "metadata": {},
   "outputs": [],
   "source": [
    "train, test = data.randomSplit([0.7,0.3])\n",
    "train.cache()\n",
    "test.cache()"
   ]
  },
  {
   "cell_type": "code",
   "execution_count": null,
   "metadata": {},
   "outputs": [],
   "source": [
    "type(train)"
   ]
  },
  {
   "cell_type": "markdown",
   "metadata": {},
   "source": [
    "Train the logistic regression model using MLIB"
   ]
  },
  {
   "cell_type": "code",
   "execution_count": null,
   "metadata": {},
   "outputs": [],
   "source": [
    "model = LogisticRegressionWithLBFGS.train(train)"
   ]
  },
  {
   "cell_type": "code",
   "execution_count": null,
   "metadata": {},
   "outputs": [],
   "source": [
    "model.weights"
   ]
  },
  {
   "cell_type": "markdown",
   "metadata": {},
   "source": [
    "Run it on the test data"
   ]
  },
  {
   "cell_type": "code",
   "execution_count": null,
   "metadata": {},
   "outputs": [],
   "source": [
    "results = test.map(lambda lp: (lp.label, float(model.predict(lp.features))))\n",
    "print results.take(10)\n",
    "type(results)                       "
   ]
  },
  {
   "cell_type": "markdown",
   "metadata": {},
   "source": [
    "Measure accuracy and other metrics"
   ]
  },
  {
   "cell_type": "code",
   "execution_count": null,
   "metadata": {},
   "outputs": [],
   "source": [
    "test_accuracy=results.filter(lambda (a,p): a==p).count()/float(results.count())\n",
    "test_accuracy"
   ]
  },
  {
   "cell_type": "code",
   "execution_count": null,
   "metadata": {},
   "outputs": [],
   "source": [
    "from pyspark.mllib.evaluation import BinaryClassificationMetrics\n",
    "metrics = BinaryClassificationMetrics(results)"
   ]
  },
  {
   "cell_type": "code",
   "execution_count": null,
   "metadata": {},
   "outputs": [],
   "source": [
    "print type(metrics)\n",
    "metrics.areaUnderROC"
   ]
  },
  {
   "cell_type": "code",
   "execution_count": null,
   "metadata": {},
   "outputs": [],
   "source": [
    "type(model)"
   ]
  },
  {
   "cell_type": "code",
   "execution_count": null,
   "metadata": {},
   "outputs": [],
   "source": [
    "!rm -rf mylogistic.model"
   ]
  },
  {
   "cell_type": "code",
   "execution_count": null,
   "metadata": {},
   "outputs": [],
   "source": [
    "model.save(sc, \"mylogistic.model\")"
   ]
  },
  {
   "cell_type": "markdown",
   "metadata": {},
   "source": [
    "The pipeline API automates a lot of this stuff, allowing us to work directly on dataframes."
   ]
  },
  {
   "cell_type": "markdown",
   "metadata": {},
   "source": [
    "Also see:\n",
    "\n",
    "- http://jordicasanellas.weebly.com/data-science-blog/machine-learning-with-spark\n",
    "- http://spark.apache.org/docs/latest/mllib-guide.html\n",
    "- http://www.techpoweredmath.com/spark-dataframes-mllib-tutorial/\n",
    "- http://spark.apache.org/docs/latest/api/python/\n",
    "- http://spark.apache.org/docs/latest/programming-guide.html"
   ]
  },
  {
   "cell_type": "markdown",
   "metadata": {},
   "source": [
    "`rdd.saveAsTextFile()` saves an RDD as a string."
   ]
  },
  {
   "cell_type": "markdown",
   "metadata": {
    "collapsed": true
   },
   "source": [
    "## Optional Topic 3: Your Turn at Machine Learning! :)\n",
    "\n",
    "For this exercise, we're going to use one of the datasets we've already worked with: the Boston House Prices dataset. We're going to try a couple of regression algorithms, but from the SparkML library this time.\n",
    "\n",
    "Before you proceed, make sure to do an overview of the documentation: \n",
    "http://spark.apache.org/docs/latest/api/python/pyspark.ml.html"
   ]
  },
  {
   "cell_type": "code",
   "execution_count": null,
   "metadata": {},
   "outputs": [],
   "source": [
    "# All imports go here\n",
    "\n",
    "\n"
   ]
  },
  {
   "cell_type": "markdown",
   "metadata": {},
   "source": [
    "First, we have to load the dataset, which resides as a CSV file in the folder for this exercise."
   ]
  },
  {
   "cell_type": "code",
   "execution_count": null,
   "metadata": {},
   "outputs": [],
   "source": [
    "# Path: /sparklect/boston.csv\n"
   ]
  },
  {
   "cell_type": "markdown",
   "metadata": {},
   "source": [
    "Inspect the data to make sure everything is loaded properly."
   ]
  },
  {
   "cell_type": "code",
   "execution_count": null,
   "metadata": {},
   "outputs": [],
   "source": []
  },
  {
   "cell_type": "markdown",
   "metadata": {},
   "source": [
    "Now we'll need to create a train/test split."
   ]
  },
  {
   "cell_type": "code",
   "execution_count": null,
   "metadata": {},
   "outputs": [],
   "source": [
    "# We'll first have to vectorize the features\n"
   ]
  },
  {
   "cell_type": "markdown",
   "metadata": {},
   "source": [
    "As the next step, fit a Linear Regression model on the training set."
   ]
  },
  {
   "cell_type": "code",
   "execution_count": null,
   "metadata": {},
   "outputs": [],
   "source": []
  },
  {
   "cell_type": "markdown",
   "metadata": {},
   "source": [
    "Now validate the model on the test set, and check the Root Mean Squared Error."
   ]
  },
  {
   "cell_type": "code",
   "execution_count": null,
   "metadata": {},
   "outputs": [],
   "source": []
  },
  {
   "cell_type": "markdown",
   "metadata": {},
   "source": [
    "Let's compare Linear Regression with a more powerful algorithm - the Random Forest. As the Random Forest has several hyperparameters that can be tuned for maximum accuracy, we're going to need to use k-fold Cross Validation."
   ]
  },
  {
   "cell_type": "markdown",
   "metadata": {},
   "source": [
    "First, set up a grid for the hyperparameter search."
   ]
  },
  {
   "cell_type": "code",
   "execution_count": null,
   "metadata": {},
   "outputs": [],
   "source": []
  },
  {
   "cell_type": "markdown",
   "metadata": {},
   "source": [
    "Now, with a Random Forest regressor using k-fold Cross Validation, and find the optimal combination of hyperparameters."
   ]
  },
  {
   "cell_type": "code",
   "execution_count": null,
   "metadata": {},
   "outputs": [],
   "source": []
  },
  {
   "cell_type": "markdown",
   "metadata": {},
   "source": [
    "Finally, validate the model on the test set and check the Root Mean Squared Error again."
   ]
  },
  {
   "cell_type": "code",
   "execution_count": null,
   "metadata": {},
   "outputs": [],
   "source": []
  },
  {
   "cell_type": "markdown",
   "metadata": {},
   "source": [
    "\n",
    "\n",
    "## Optional Topic 4: Model Your Capstone Dataset\n"
   ]
  },
  {
   "cell_type": "markdown",
   "metadata": {},
   "source": [
    "If you have time, load up the cleaned dataset from one of your capstone projects. Do you remember which algorithm and the accompanying combination of hyperparameters did the best job? For practice, try and implement the same model in SparkML."
   ]
  },
  {
   "cell_type": "code",
   "execution_count": null,
   "metadata": {},
   "outputs": [],
   "source": []
  },
  {
   "cell_type": "code",
   "execution_count": null,
   "metadata": {},
   "outputs": [],
   "source": [
    "# Stop Spark\n",
    "sc.stop()"
   ]
  }
 ],
 "metadata": {
  "kernelspec": {
   "display_name": "Python 3",
   "language": "python",
   "name": "python3"
  },
  "language_info": {
   "codemirror_mode": {
    "name": "ipython",
    "version": 3
   },
   "file_extension": ".py",
   "mimetype": "text/x-python",
   "name": "python",
   "nbconvert_exporter": "python",
   "pygments_lexer": "ipython3",
   "version": "3.6.4"
  }
 },
 "nbformat": 4,
 "nbformat_minor": 1
}
